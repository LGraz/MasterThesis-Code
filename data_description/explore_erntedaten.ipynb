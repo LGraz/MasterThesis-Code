{
 "cells": [
  {
   "cell_type": "markdown",
   "metadata": {},
   "source": [
    "## File structure description:\n",
    "**Erntedaten_raster/method/*:** raster data estimated by 'method' from combine-harvest data to the resolution of  \n",
    "Filetypes: '.tif' and some '.tif.aux.xml'\n",
    "\n",
    "**Erntedaten_shp_clean**: Cleaned combine-harverster data.\n",
    "\n",
    "'shp' 'dbf' 'shx' must be in directory for QGIS to get the full data. The 'shp' file is the one to *drag* to QGIS.\n",
    "\n",
    "contain data:\n",
    " <font size=\"2\">    \n",
    "|Id .  |Name      |Alias|Type     |Type name|Length|Precision|Comment|\n",
    "|------|----------|-----|---------|---------|------|---------|-------|\n",
    "|1.2 0 |Höhe      |     |double   |Real     |23    |15       |       |\n",
    "|1.2 1 |Strecke   |     |double   |Real     |23    |15       |       |\n",
    "|1.2 2 |Dauer     |     |double   |Real     |23    |15       |       |\n",
    "|1.2 3 |Arbeitsbre|     |double   |Real     |23    |15       |       |\n",
    "|1.2 4 |Richtung  |     |double   |Real     |23    |15       |       |\n",
    "|abc 5 |Zeitstempe|     |QString  |String   |80    |0        |       |\n",
    "|1.2 6 |Feuchtigke|     |double   |Real     |23    |15       |       |\n",
    "|1.2 7 |Gesamtertr|     |double   |Real     |23    |15       |       |\n",
    "|123 8 |GPS-Qualit|     |qlonglong|Integer64|18    |0        |       |\n",
    "|1.2 9 |Geschwindi|     |double   |Real     |23    |15       |       |\n",
    "|1.2 10|RPM       |     |double   |Real     |23    |15       |       |\n",
    "|1.2 11|Durchfluss|     |double   |Real     |23    |15       |       |\n",
    "|1.2 12|Logitudina|     |double   |Real     |23    |15       |       |\n",
    "|1.2 13|Transverse|     |double   |Real     |23    |15       |       |\n",
    "|abc 14|Section_ID|     |QString  |String   |80    |0        |       |\n",
    "|abc 15|Aktiviert |     |QString  |String   |80    |0        |       |\n",
    "|1.2 16|Ertrag_feu|     |double   |Real     |23    |15       |       |\n",
    "|1.2 17|Trockenert|     |double   |Real     |23    |15       |       |</font>\n"
   ]
  }
 ],
 "metadata": {
  "language_info": {
   "name": "python"
  },
  "orig_nbformat": 4
 },
 "nbformat": 4,
 "nbformat_minor": 2
}
