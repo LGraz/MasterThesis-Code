{
 "cells": [
  {
   "cell_type": "code",
   "execution_count": 1,
   "metadata": {},
   "outputs": [
    {
     "name": "stdout",
     "output_type": "stream",
     "text": [
      "/home/lukas/Documents/ETH/MASTER_THESIS/code\n"
     ]
    }
   ],
   "source": [
    "import pandas as pd\n",
    "import numpy as np\n",
    "import matplotlib.pyplot as plt\n",
    "import os\n",
    "import importlib\n",
    "\n",
    "import my_utils.pixel as pixel\n",
    "importlib.reload(pixel) # get changes in my_utils.pixel\n",
    "print(os.getcwd())"
   ]
  },
  {
   "cell_type": "markdown",
   "metadata": {},
   "source": [
    "### Load Data:"
   ]
  },
  {
   "cell_type": "code",
   "execution_count": 2,
   "metadata": {},
   "outputs": [],
   "source": [
    "WW = True  # only consider 'Winter Wheat' otherwise consider Cereals\n",
    "\n",
    "if WW:\n",
    "    path_cov = os.path.join(\"data/yieldmapping_data\", \"WW_covariates_tot.csv\")\n",
    "    path_met = os.path.join(\"data/yieldmapping_data\", \"WW_meteo_tot.csv\")\n",
    "    path_yie = os.path.join(\"data/yieldmapping_data\", \"WW_yield_tot.csv\")\n",
    "else:\n",
    "    path_cov = os.path.join(\"data/yieldmapping_data\",\n",
    "                            \"Cereals_covariates_tot.csv\")\n",
    "    path_met = os.path.join(\"data/yieldmapping_data\", \"Cereals_meteo_tot.csv\")\n",
    "    path_yie = os.path.join(\"data/yieldmapping_data\", \"Cereals_yield_tot.csv\")\n",
    "\n",
    "d_cov = pd.read_csv(path_cov)\n",
    "d_met = pd.read_csv(path_met)\n",
    "d_yie = pd.read_csv(path_yie)"
   ]
  },
  {
   "cell_type": "code",
   "execution_count": 6,
   "metadata": {},
   "outputs": [
    {
     "data": {
      "text/html": [
       "<div>\n",
       "<style scoped>\n",
       "    .dataframe tbody tr th:only-of-type {\n",
       "        vertical-align: middle;\n",
       "    }\n",
       "\n",
       "    .dataframe tbody tr th {\n",
       "        vertical-align: top;\n",
       "    }\n",
       "\n",
       "    .dataframe thead th {\n",
       "        text-align: right;\n",
       "    }\n",
       "</style>\n",
       "<table border=\"1\" class=\"dataframe\">\n",
       "  <thead>\n",
       "    <tr style=\"text-align: right;\">\n",
       "      <th></th>\n",
       "      <th>date</th>\n",
       "      <th>date_unix</th>\n",
       "      <th>WW</th>\n",
       "    </tr>\n",
       "  </thead>\n",
       "  <tbody>\n",
       "    <tr>\n",
       "      <th>0</th>\n",
       "      <td>2019-02-24</td>\n",
       "      <td>1.550966e+09</td>\n",
       "      <td>0.352364</td>\n",
       "    </tr>\n",
       "    <tr>\n",
       "      <th>1</th>\n",
       "      <td>2019-02-25</td>\n",
       "      <td>1.551053e+09</td>\n",
       "      <td>0.369764</td>\n",
       "    </tr>\n",
       "    <tr>\n",
       "      <th>2</th>\n",
       "      <td>2019-02-26</td>\n",
       "      <td>1.551139e+09</td>\n",
       "      <td>0.387037</td>\n",
       "    </tr>\n",
       "    <tr>\n",
       "      <th>3</th>\n",
       "      <td>2019-02-27</td>\n",
       "      <td>1.551226e+09</td>\n",
       "      <td>0.404055</td>\n",
       "    </tr>\n",
       "    <tr>\n",
       "      <th>4</th>\n",
       "      <td>2019-02-28</td>\n",
       "      <td>1.551312e+09</td>\n",
       "      <td>0.420691</td>\n",
       "    </tr>\n",
       "    <tr>\n",
       "      <th>...</th>\n",
       "      <td>...</td>\n",
       "      <td>...</td>\n",
       "      <td>...</td>\n",
       "    </tr>\n",
       "    <tr>\n",
       "      <th>140</th>\n",
       "      <td>2019-07-14</td>\n",
       "      <td>1.563062e+09</td>\n",
       "      <td>0.313605</td>\n",
       "    </tr>\n",
       "    <tr>\n",
       "      <th>141</th>\n",
       "      <td>2019-07-15</td>\n",
       "      <td>1.563149e+09</td>\n",
       "      <td>0.301976</td>\n",
       "    </tr>\n",
       "    <tr>\n",
       "      <th>142</th>\n",
       "      <td>2019-07-16</td>\n",
       "      <td>1.563235e+09</td>\n",
       "      <td>0.288417</td>\n",
       "    </tr>\n",
       "    <tr>\n",
       "      <th>143</th>\n",
       "      <td>2019-07-17</td>\n",
       "      <td>1.563322e+09</td>\n",
       "      <td>0.273411</td>\n",
       "    </tr>\n",
       "    <tr>\n",
       "      <th>144</th>\n",
       "      <td>2019-07-18</td>\n",
       "      <td>1.563408e+09</td>\n",
       "      <td>0.257441</td>\n",
       "    </tr>\n",
       "  </tbody>\n",
       "</table>\n",
       "<p>145 rows × 3 columns</p>\n",
       "</div>"
      ],
      "text/plain": [
       "          date     date_unix        WW\n",
       "0   2019-02-24  1.550966e+09  0.352364\n",
       "1   2019-02-25  1.551053e+09  0.369764\n",
       "2   2019-02-26  1.551139e+09  0.387037\n",
       "3   2019-02-27  1.551226e+09  0.404055\n",
       "4   2019-02-28  1.551312e+09  0.420691\n",
       "..         ...           ...       ...\n",
       "140 2019-07-14  1.563062e+09  0.313605\n",
       "141 2019-07-15  1.563149e+09  0.301976\n",
       "142 2019-07-16  1.563235e+09  0.288417\n",
       "143 2019-07-17  1.563322e+09  0.273411\n",
       "144 2019-07-18  1.563408e+09  0.257441\n",
       "\n",
       "[145 rows x 3 columns]"
      ]
     },
     "execution_count": 6,
     "metadata": {},
     "output_type": "execute_result"
    }
   ],
   "source": [
    "from sklearn.model_selection import KFold\n",
    "import random \n",
    "\n",
    "np.random.seed(1)\n",
    "self = pixel.Pixel(d_cov, d_met, d_yie)\n",
    "\n",
    "def interpolation_cv(self, methodname, y=None, k=5, n_min=5, method='get_smooting_spline', kwargs={}):\n",
    "    \"\"\"\n",
    "    teile irgendwie crossvalidation ein,\n",
    "    gewünscht: k is die anzahl der durchgänge\n",
    "    n_min ist die mindeste geforderte anzahl an punkten zum training\n",
    "\n",
    "    result:\n",
    "    DataFrame where each column corresponds to the error of one test-fold\n",
    "\n",
    "    from now on apply furtcher functions which calculate statistics\n",
    "    like RMSE, Med, MAD, QN, ....\n",
    "    \"\"\"\n",
    "    if k is None:\n",
    "        k = self.cov_n\n",
    "    if y is None:\n",
    "        y = self.get_ndvi()   \n",
    "    k = min(self.cov_n-2, k)\n",
    "    kf = KFold(k, shuffle=True)\n",
    "    ## alternative way which might be used for keeping start and end\n",
    "    # def partition (list_in, n):\n",
    "        # random.shuffle(list_in)\n",
    "        # return [list_in[i::n] for i in range(n)]\n",
    "    create a new dataframe\n",
    "    for i, train, test in enumerate(interpolation_cv(self)):\n",
    "        ind_keep = \n",
    "        name = \"cv_\"+methodname+\"_\"+str(i)\n",
    "        args = {**kwargs, 'ind_keep':ind_keep, 'name':name}\n",
    "        getattr(self, method)(**args)\n",
    "        ~compare estimation with truth for test\n",
    "        ~get residuals in data frame\n",
    "\n",
    "        \n",
    "    return kf.split(y)\n",
    "\n",
    "interpolation_cv(self, kwargs={'name':\"WW\"})\n",
    "self.step_interpolate\n",
    "\n",
    "# self.get_smooting_spline(smooth=1e-11/(28*24*3600), name=\"ss\")\n",
    "# self.plot_ndvi()\n",
    "# self.plot_step_interpolate(which=\"ss\")\n",
    "\n",
    "\n",
    "\n",
    "# for train, test in interpolation_cv(self):\n",
    "#     print(\"%s %s\" % (train, test))\n",
    "#     for i in test:\n",
    "#         print(self.cov.date.iloc[i])"
   ]
  },
  {
   "cell_type": "markdown",
   "metadata": {},
   "source": [
    "### smoothing splines for NDVI:"
   ]
  },
  {
   "cell_type": "code",
   "execution_count": null,
   "metadata": {},
   "outputs": [],
   "source": []
  },
  {
   "cell_type": "code",
   "execution_count": null,
   "metadata": {},
   "outputs": [],
   "source": [
    "np.random.seed(1)\n",
    "smooth = 0 #1e-11/(28*24*3600)\n",
    "\n",
    "for i in range(2):\n",
    "    temp = pixel.Pixel(d_cov, d_met, d_yie)\n",
    "    temp.get_ndvi()\n",
    "    temp.plot_ndvi()\n",
    "    temp.get_smooting_spline(name=\"all\", smooth=smooth)\n",
    "    temp.get_smooting_spline(name=\"filter\", smooth=smooth,\n",
    "                             ind_keep=temp.filter(\"ndvi_min\"))\n",
    "    temp.plot_step_interpolate(which=\"all\")\n",
    "    temp.plot_step_interpolate(which=\"filter\")\n",
    "    plt.show()\n",
    "\n",
    "# print(temp)"
   ]
  },
  {
   "cell_type": "code",
   "execution_count": null,
   "metadata": {},
   "outputs": [],
   "source": [
    "import scipy.interpolate as interpolate\n",
    "self = pixel.Pixel(d_cov, d_met, d_yie)\n",
    "self.get_b_spline()\n",
    "self.plot_ndvi()\n",
    "self.plot_step_interpolate(\"BSpline\")"
   ]
  },
  {
   "cell_type": "code",
   "execution_count": null,
   "metadata": {},
   "outputs": [],
   "source": []
  },
  {
   "cell_type": "markdown",
   "metadata": {},
   "source": [
    "# TO DO \n",
    "- beautiful plot (colors, legend, title)\n",
    "- advanced plotting (support for lists)"
   ]
  }
 ],
 "metadata": {
  "interpreter": {
   "hash": "11dba1b81252b59ab98f33e0ce45f74ec755f8a68369b3cdc9370c92c9fa8862"
  },
  "kernelspec": {
   "display_name": "Python 3.10.2 ('env': venv)",
   "language": "python",
   "name": "python3"
  },
  "language_info": {
   "codemirror_mode": {
    "name": "ipython",
    "version": 3
   },
   "file_extension": ".py",
   "mimetype": "text/x-python",
   "name": "python",
   "nbconvert_exporter": "python",
   "pygments_lexer": "ipython3",
   "version": "3.10.4"
  },
  "orig_nbformat": 4
 },
 "nbformat": 4,
 "nbformat_minor": 2
}
