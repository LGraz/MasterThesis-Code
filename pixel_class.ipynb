{
 "cells": [
  {
   "cell_type": "code",
   "execution_count": 1,
   "metadata": {},
   "outputs": [],
   "source": [
    "import pandas as pd\n",
    "import matplotlib.pyplot as plt\n",
    "import os\n",
    "\n",
    "# from utils.pixel import *\n",
    "\n",
    "os.chdir(r\"/home/lukas/Documents/ETH/MASTER_THESIS/code\")"
   ]
  },
  {
   "cell_type": "code",
   "execution_count": 2,
   "metadata": {},
   "outputs": [],
   "source": [
    "WW = True  # only consider 'Winter Wheat' otherwise consider Cereals\n",
    "\n",
    "if WW:\n",
    "    path_cov = os.path.join(\"data/yieldmapping_data\", \"WW_covariates_tot.csv\")\n",
    "    path_met = os.path.join(\"data/yieldmapping_data\", \"WW_meteo_tot.csv\")\n",
    "    path_yie = os.path.join(\"data/yieldmapping_data\", \"WW_yield_tot.csv\")\n",
    "else:\n",
    "    path_cov = os.path.join(\"data/yieldmapping_data\",\n",
    "                            \"Cereals_covariates_tot.csv\")\n",
    "    path_met = os.path.join(\"data/yieldmapping_data\", \"Cereals_meteo_tot.csv\")\n",
    "    path_yie = os.path.join(\"data/yieldmapping_data\", \"Cereals_yield_tot.csv\")\n",
    "\n",
    "d_cov = pd.read_csv(path_cov)\n",
    "d_met = pd.read_csv(path_met)\n",
    "d_yie = pd.read_csv(path_yie)"
   ]
  },
  {
   "cell_type": "code",
   "execution_count": 91,
   "metadata": {},
   "outputs": [],
   "source": [
    "import pandas as pd\n",
    "import matplotlib.pyplot as plt\n",
    "\n",
    "\n",
    "class pixel:\n",
    "    def __init__(self, coord_id, d_cov, d_met, d_yie):\n",
    "        self.coord_id = coord_id\n",
    "        self.cov = d_cov[d_cov.coord_id == coord_id]\n",
    "        self.yie = d_yie[d_yie.coord_id == coord_id]\n",
    "        self.FID = self.cov.FID  # can take instead: set(...)\n",
    "        self.met = d_met[d_met.FID.isin(set(self.FID))]\n",
    "\n",
    "    # printing method:\n",
    "    def __str__(self):\n",
    "        return \"FID:  \" + str(set(self.FID)) + \"--------------------------\" + \"\\n\" + \"yield: \" + str(self.yie) + \"\\n\" + \"coord_id: \" + self.coord_id + \"\\n\"\n",
    "\n",
    "    def __repr__(self):\n",
    "        return self.__str__()\n",
    "\n",
    "    def get_ndvi(self):\n",
    "        # NDVI := NIR(Band8)-Red(Band4)/NIR(Band8)+Red(Band4)\n",
    "        if not hasattr(self, 'ndvi'):\n",
    "            self.ndvi = (self.cov.B08 - self.cov.B04) / (self.cov.B08 + self.cov.B04)\n",
    "        return self.ndvi\n",
    "\n",
    "    def plot_ndvi(self):\n",
    "        if not hasattr(self, 'ndvi'):\n",
    "            self.get_ndvi()\n",
    "        plt.scatter(self.cov.date, self.ndvi)\n",
    "        plt.ylabel(\"NDVI\")\n",
    "        plt.ylim([0, 1])\n",
    "        plt.xlabel(\"date\")\n",
    "        plt.show()\n",
    "\n",
    "\n",
    "def random_pixel(d_cov, d_met, d_yie, n=1):\n",
    "    result = []\n",
    "    cid = d_cov.coord_id.to_frame().sample(n, ignore_index=True).coord_id\n",
    "    for i in range(n):\n",
    "        result.append(pixel(cid[i], d_cov, d_met, d_yie))\n",
    "    return result\n"
   ]
  },
  {
   "cell_type": "code",
   "execution_count": 88,
   "metadata": {},
   "outputs": [],
   "source": [
    "temp = random_pixel(d_cov, d_met, d_yie, n=2)[0]"
   ]
  },
  {
   "cell_type": "code",
   "execution_count": 92,
   "metadata": {},
   "outputs": [
    {
     "name": "stdout",
     "output_type": "stream",
     "text": [
      "35844     0.668293\n",
      "36587     0.578707\n",
      "37458     0.706434\n",
      "38344     0.718439\n",
      "39631     0.699192\n",
      "40521     0.782950\n",
      "41411     0.745564\n",
      "42876     0.761167\n",
      "43766     0.762457\n",
      "44656     0.722107\n",
      "45546     0.655629\n",
      "46582     0.281553\n",
      "47472     0.243687\n",
      "310518    0.121439\n",
      "312664    0.164384\n",
      "314819    0.184744\n",
      "316974    0.196552\n",
      "319129    0.240506\n",
      "321284    0.294659\n",
      "323439    0.248677\n",
      "325586    0.387342\n",
      "327731    0.674620\n",
      "329872    0.758733\n",
      "332035    0.868297\n",
      "334190    0.804199\n",
      "336319    0.869876\n",
      "337641    0.488239\n",
      "339667    0.350318\n",
      "dtype: float64\n"
     ]
    },
    {
     "data": {
      "image/png": "[encoded data removed]",
      "text/plain": [
       "<Figure size 432x288 with 1 Axes>"
      ]
     },
     "metadata": {
      "needs_background": "light"
     },
     "output_type": "display_data"
    }
   ],
   "source": [
    "\n",
    "\n",
    "temp.get_ndvi()\n",
    "print(temp.ndvi)\n",
    "temp.get_ndvi()\n",
    "temp.plot_ndvi()\n"
   ]
  },
  {
   "cell_type": "markdown",
   "metadata": {},
   "source": []
  },
  {
   "cell_type": "code",
   "execution_count": null,
   "metadata": {},
   "outputs": [],
   "source": []
  }
 ],
 "metadata": {
  "interpreter": {
   "hash": "11dba1b81252b59ab98f33e0ce45f74ec755f8a68369b3cdc9370c92c9fa8862"
  },
  "kernelspec": {
   "display_name": "Python 3.10.2 ('env': venv)",
   "language": "python",
   "name": "python3"
  },
  "language_info": {
   "codemirror_mode": {
    "name": "ipython",
    "version": 3
   },
   "file_extension": ".py",
   "mimetype": "text/x-python",
   "name": "python",
   "nbconvert_exporter": "python",
   "pygments_lexer": "ipython3",
   "version": "3.10.2"
  },
  "orig_nbformat": 4
 },
 "nbformat": 4,
 "nbformat_minor": 2
}
