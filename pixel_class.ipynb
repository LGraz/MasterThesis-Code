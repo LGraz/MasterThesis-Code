{
 "cells": [
  {
   "cell_type": "code",
   "execution_count": 1,
   "metadata": {},
   "outputs": [],
   "source": [
    "import pandas as pd\n",
    "import matplotlib.pyplot as plt\n",
    "import os\n",
    "\n",
    "# from utils.pixel import *\n",
    "\n",
    "os.chdir(r\"/home/lukas/Documents/ETH/MASTER_THESIS/code\")"
   ]
  },
  {
   "cell_type": "code",
   "execution_count": 2,
   "metadata": {},
   "outputs": [],
   "source": [
    "WW = True  # only consider 'Winter Wheat' otherwise consider Cereals\n",
    "\n",
    "if WW:\n",
    "    path_cov = os.path.join(\"data/yieldmapping_data\", \"WW_covariates_tot.csv\")\n",
    "    path_met = os.path.join(\"data/yieldmapping_data\", \"WW_meteo_tot.csv\")\n",
    "    path_yie = os.path.join(\"data/yieldmapping_data\", \"WW_yield_tot.csv\")\n",
    "else:\n",
    "    path_cov = os.path.join(\"data/yieldmapping_data\",\n",
    "                            \"Cereals_covariates_tot.csv\")\n",
    "    path_met = os.path.join(\"data/yieldmapping_data\", \"Cereals_meteo_tot.csv\")\n",
    "    path_yie = os.path.join(\"data/yieldmapping_data\", \"Cereals_yield_tot.csv\")\n",
    "\n",
    "d_cov = pd.read_csv(path_cov)\n",
    "d_met = pd.read_csv(path_met)\n",
    "d_yie = pd.read_csv(path_yie)"
   ]
  },
  {
   "cell_type": "code",
   "execution_count": 39,
   "metadata": {},
   "outputs": [],
   "source": [
    "import pandas as pd\n",
    "import matplotlib.pyplot as plt\n",
    "import numpy as np\n",
    "from csaps import csaps  # for natural cubic smoothing splines\n",
    "\n",
    "class pixel:\n",
    "    def __init__(self, coord_id, d_cov, d_met, d_yie):\n",
    "        self.coord_id = coord_id\n",
    "        self.cov = d_cov[d_cov.coord_id == coord_id]\n",
    "        self.keep_ind = [True]*len(self.cov)\n",
    "        self.yie = d_yie[d_yie.coord_id == coord_id]\n",
    "        self.FID = self.cov.FID  # can take instead: set(...)\n",
    "        self.met = d_met[d_met.FID.isin(set(self.FID))]\n",
    "\n",
    "    # printing method:\n",
    "    def __str__(self):\n",
    "        return \"FID:  \" + str(set(self.FID)) + \"--------------------------\" + \"\\n\" + \"yield: \" + str(self.yie) + \"\\n\" + \"coord_id: \" + self.coord_id + \"\\n\"\n",
    "\n",
    "    def __repr__(self):\n",
    "        return self.__str__()\n",
    "\n",
    "    def get_ndvi(self):\n",
    "        # NDVI := NIR(Band8)-Red(Band4)/NIR(Band8)+Red(Band4)\n",
    "        if not hasattr(self, 'ndvi'):\n",
    "            self.ndvi = (self.cov.B08 - self.cov.B04) / (self.cov.B08 + self.cov.B04)\n",
    "        return self.ndvi\n",
    "\n",
    "    def plot_ndvi(self):\n",
    "        if not hasattr(self, 'ndvi'):\n",
    "            self.get_ndvi()\n",
    "        plt.scatter(self.cov.date, self.ndvi, c=list(map(int, temp.keep_ind)))\n",
    "        plt.ylabel(\"NDVI\")\n",
    "        plt.ylim([0, 1])\n",
    "        # for showing only some dates this might be helpful: \n",
    "        # https://www.geeksforgeeks.org/matplotlib-figure-figure-autofmt_xdate-in-python/\n",
    "        plt.gcf().autofmt_xdate()\n",
    "        # plt.show()\n",
    "\n",
    "## NOW: Filter observations\n",
    "    def filter_ndvi_min(self, date, i):\n",
    "        if i in [0, len(self.cov)-1]:\n",
    "            return True\n",
    "        else:\n",
    "            return (self.ndvi.iloc[i-1] < self.ndvi.iloc[i]) | (self.ndvi.iloc[i] > self.ndvi.iloc[i+1])\n",
    "    \n",
    "    def filter_method(self, method, date, i):\n",
    "        match method:\n",
    "            case \"ndvi_min\":\n",
    "                return self.filter_ndvi_min(date, i)\n",
    "            case _:\n",
    "                print(\"filter method unkown\")\n",
    "                return False\n",
    "\n",
    "    def filter(self, method):\n",
    "        keep_ind = []\n",
    "        for i, date in enumerate(self.cov.date):\n",
    "            keep_ind.append(self.filter_method(method, date, i))\n",
    "        self.keep_ind = keep_ind\n",
    "        return keep_ind\n",
    "\n",
    "\n",
    "\n",
    "\n",
    "def random_pixel(d_cov, d_met, d_yie, n=1):\n",
    "    result = []\n",
    "    cid = d_cov.coord_id.to_frame().sample(n, ignore_index=True).coord_id\n",
    "    for i in range(n):\n",
    "        result.append(pixel(cid[i], d_cov, d_met, d_yie))\n",
    "    return result\n"
   ]
  },
  {
   "cell_type": "code",
   "execution_count": 15,
   "metadata": {},
   "outputs": [],
   "source": [
    "temp = random_pixel(d_cov, d_met, d_yie, n=2)[0]"
   ]
  },
  {
   "cell_type": "code",
   "execution_count": 37,
   "metadata": {},
   "outputs": [
    {
     "data": {
      "image/png": "[encoded data removed]",
      "text/plain": [
       "<Figure size 432x288 with 1 Axes>"
      ]
     },
     "metadata": {
      "needs_background": "light"
     },
     "output_type": "display_data"
    }
   ],
   "source": [
    "# temp = random_pixel(d_cov, d_met, d_yie, n=2)[0]\n",
    "temp.get_ndvi()dateSeries\n",
    "temp.filter(\"ndvi_min\")\n",
    "temp.plot_ndvi()"
   ]
  },
  {
   "cell_type": "code",
   "execution_count": 112,
   "metadata": {},
   "outputs": [
    {
     "data": {
      "text/plain": [
       "(array([1.5816384e+09, 1.5825024e+09, 1.5842304e+09, 1.5850944e+09,\n",
       "        1.5859584e+09, 1.5863904e+09, 1.5868224e+09, 1.5876864e+09,\n",
       "        1.5881184e+09, 1.5885504e+09, 1.5889824e+09, 1.5898464e+09,\n",
       "        1.5902784e+09, 1.5907104e+09, 1.5911424e+09, 1.5915744e+09,\n",
       "        1.5924384e+09, 1.5928704e+09, 1.5933024e+09, 1.5941664e+09,\n",
       "        1.5945984e+09, 1.5950304e+09, 1.5954624e+09, 1.5958944e+09]),\n",
       " array([1.5816384e+09, 1.5817248e+09, 1.5818112e+09, 1.5818976e+09,\n",
       "        1.5819840e+09, 1.5820704e+09, 1.5821568e+09, 1.5822432e+09,\n",
       "        1.5823296e+09, 1.5824160e+09, 1.5825024e+09, 1.5825888e+09,\n",
       "        1.5826752e+09, 1.5827616e+09, 1.5828480e+09, 1.5829344e+09,\n",
       "        1.5830208e+09, 1.5831072e+09, 1.5831936e+09, 1.5832800e+09,\n",
       "        1.5833664e+09, 1.5834528e+09, 1.5835392e+09, 1.5836256e+09,\n",
       "        1.5837120e+09, 1.5837984e+09, 1.5838848e+09, 1.5839712e+09,\n",
       "        1.5840576e+09, 1.5841440e+09, 1.5842304e+09, 1.5843168e+09,\n",
       "        1.5844032e+09, 1.5844896e+09, 1.5845760e+09, 1.5846624e+09,\n",
       "        1.5847488e+09, 1.5848352e+09, 1.5849216e+09, 1.5850080e+09,\n",
       "        1.5850944e+09, 1.5851808e+09, 1.5852672e+09, 1.5853536e+09,\n",
       "        1.5854400e+09, 1.5855264e+09, 1.5856128e+09, 1.5856992e+09,\n",
       "        1.5857856e+09, 1.5858720e+09, 1.5859584e+09, 1.5860448e+09,\n",
       "        1.5861312e+09, 1.5862176e+09, 1.5863040e+09, 1.5863904e+09,\n",
       "        1.5864768e+09, 1.5865632e+09, 1.5866496e+09, 1.5867360e+09,\n",
       "        1.5868224e+09, 1.5869088e+09, 1.5869952e+09, 1.5870816e+09,\n",
       "        1.5871680e+09, 1.5872544e+09, 1.5873408e+09, 1.5874272e+09,\n",
       "        1.5875136e+09, 1.5876000e+09, 1.5876864e+09, 1.5877728e+09,\n",
       "        1.5878592e+09, 1.5879456e+09, 1.5880320e+09, 1.5881184e+09,\n",
       "        1.5882048e+09, 1.5882912e+09, 1.5883776e+09, 1.5884640e+09,\n",
       "        1.5885504e+09, 1.5886368e+09, 1.5887232e+09, 1.5888096e+09,\n",
       "        1.5888960e+09, 1.5889824e+09, 1.5890688e+09, 1.5891552e+09,\n",
       "        1.5892416e+09, 1.5893280e+09, 1.5894144e+09, 1.5895008e+09,\n",
       "        1.5895872e+09, 1.5896736e+09, 1.5897600e+09, 1.5898464e+09,\n",
       "        1.5899328e+09, 1.5900192e+09, 1.5901056e+09, 1.5901920e+09,\n",
       "        1.5902784e+09, 1.5903648e+09, 1.5904512e+09, 1.5905376e+09,\n",
       "        1.5906240e+09, 1.5907104e+09, 1.5907968e+09, 1.5908832e+09,\n",
       "        1.5909696e+09, 1.5910560e+09, 1.5911424e+09, 1.5912288e+09,\n",
       "        1.5913152e+09, 1.5914016e+09, 1.5914880e+09, 1.5915744e+09,\n",
       "        1.5916608e+09, 1.5917472e+09, 1.5918336e+09, 1.5919200e+09,\n",
       "        1.5920064e+09, 1.5920928e+09, 1.5921792e+09, 1.5922656e+09,\n",
       "        1.5923520e+09, 1.5924384e+09, 1.5925248e+09, 1.5926112e+09,\n",
       "        1.5926976e+09, 1.5927840e+09, 1.5928704e+09, 1.5929568e+09,\n",
       "        1.5930432e+09, 1.5931296e+09, 1.5932160e+09, 1.5933024e+09,\n",
       "        1.5933888e+09, 1.5934752e+09, 1.5935616e+09, 1.5936480e+09,\n",
       "        1.5937344e+09, 1.5938208e+09, 1.5939072e+09, 1.5939936e+09,\n",
       "        1.5940800e+09, 1.5941664e+09, 1.5942528e+09, 1.5943392e+09,\n",
       "        1.5944256e+09, 1.5945120e+09, 1.5945984e+09, 1.5946848e+09,\n",
       "        1.5947712e+09, 1.5948576e+09, 1.5949440e+09, 1.5950304e+09,\n",
       "        1.5951168e+09, 1.5952032e+09, 1.5952896e+09, 1.5953760e+09,\n",
       "        1.5954624e+09, 1.5955488e+09, 1.5956352e+09, 1.5957216e+09,\n",
       "        1.5958080e+09]),\n",
       " 0     2020-02-14\n",
       " 1     2020-02-15\n",
       " 2     2020-02-16\n",
       " 3     2020-02-17\n",
       " 4     2020-02-18\n",
       "          ...    \n",
       " 160   2020-07-23\n",
       " 161   2020-07-24\n",
       " 162   2020-07-25\n",
       " 163   2020-07-26\n",
       " 164   2020-07-27\n",
       " Name: 0, Length: 165, dtype: datetime64[ns])"
      ]
     },
     "execution_count": 112,
     "metadata": {},
     "output_type": "execute_result"
    }
   ],
   "source": [
    "from datetime import datetime\n",
    "np.random.seed(1234)\n",
    "self = temp\n",
    "x = self.cov.date\n",
    "y = self.ndvi\n",
    "\n",
    "## Function which helps with different time-formats\n",
    "##    Converts pandas 'dateSeries' to unix time and provides\n",
    "##    unix-numpy and pandas series with ´step´-seconds \n",
    "##  Output:\n",
    "##    'pd_date in unix-numpy array', \n",
    "##    'unix-numpy series with `step`-increase',\n",
    "##    'pandas-series with `step`-increase'\n",
    "##  Default: increase of one day\n",
    "def unix_std_date(pd_date, step=24*3600):\n",
    "    # convert to unix\n",
    "    x = pd.to_datetime(pd_date).astype(int) / 10**9 \n",
    "    x = x.to_numpy()\n",
    "    # get equaliy spaced dates\n",
    "    xs_np = np.arange(x.min(), x.max(), step) # each day\n",
    "    # convert from unix to %Y-%m-%d\n",
    "    xs_pd = pd.DataFrame(xs_np * 10**9) \n",
    "    xs_pd = pd.to_datetime(xs_pd[0], format=\"%Y-%m-%d\")\n",
    "    return x, xs_np, xs_pd\n",
    "    \n",
    "unix_std_date(temp.cov.date)"
   ]
  }
 ],
 "metadata": {
  "interpreter": {
   "hash": "11dba1b81252b59ab98f33e0ce45f74ec755f8a68369b3cdc9370c92c9fa8862"
  },
  "kernelspec": {
   "display_name": "Python 3.10.2 ('env': venv)",
   "language": "python",
   "name": "python3"
  },
  "language_info": {
   "codemirror_mode": {
    "name": "ipython",
    "version": 3
   },
   "file_extension": ".py",
   "mimetype": "text/x-python",
   "name": "python",
   "nbconvert_exporter": "python",
   "pygments_lexer": "ipython3",
   "version": "3.10.2"
  },
  "orig_nbformat": 4
 },
 "nbformat": 4,
 "nbformat_minor": 2
}
