{
 "cells": [
  {
   "cell_type": "code",
   "execution_count": 16,
   "metadata": {},
   "outputs": [],
   "source": [
    "import pandas as pd\n",
    "import matplotlib as mpl\n",
    "import os\n",
    "os.chdir(r\"/home/lukas/Documents/ETH/MASTER_THESIS/code\")\n",
    "\n",
    "WW = False # only consider 'Winter Wheat' otherwise consider Cereals\n",
    "\n",
    "if WW:\n",
    "    path_cov = os.path.join(\"data/yieldmapping_data\", \"WW_covariates_tot.csv\")\n",
    "    path_met = os.path.join(\"data/yieldmapping_data\", \"WW_meteo_tot.csv\")\n",
    "    path_yie = os.path.join(\"data/yieldmapping_data\", \"WW_yield_tot.csv\")\n",
    "else:\n",
    "    path_cov = os.path.join(\"data/yieldmapping_data\", \"Cereals_covariates_tot.csv\")\n",
    "    path_met = os.path.join(\"data/yieldmapping_data\", \"Cereals_meteo_tot.csv\")\n",
    "    path_yie = os.path.join(\"data/yieldmapping_data\", \"Cereals_yield_tot.csv\")\n",
    "\n",
    "d_cov = pd.read_csv(path_cov)\n",
    "d_met = pd.read_csv(path_met)\n",
    "d_yie = pd.read_csv(path_yie)"
   ]
  },
  {
   "cell_type": "code",
   "execution_count": 11,
   "metadata": {},
   "outputs": [],
   "source": [
    "class pixel:\n",
    "    def __init__(self, coord_id, d_cov, d_met, d_yie):\n",
    "        self.coord_id = coord_id\n",
    "        self.cov = d_cov[d_cov.coord_id == coord_id]\n",
    "        self.yie = d_yie[d_yie.coord_id == coord_id]\n",
    "        self.FID = self.cov.FID # can take instead: set(...)\n",
    "        self.met = d_met[d_met.FID.isin(set(self.FID))]\n",
    "\n",
    "    # printing method:\n",
    "    def __str__(self):\n",
    "        print(\"FID:  \" + str(set(self.FID)))\n",
    "        print(\"yield: \"+ str(self.yie))\n",
    "        return \"coord_id: \" + self.coord_id\n"
   ]
  },
  {
   "cell_type": "code",
   "execution_count": 15,
   "metadata": {},
   "outputs": [
    {
     "name": "stdout",
     "output_type": "stream",
     "text": [
      "FID:  {'2018_P5', '2020_P5'}\n",
      "yield:                  coord_id  dry_yield   x_coord    y_coord      FID   epsg  \\\n",
      "23511  352940.0_5203970.0   8.888599  352940.0  5203970.0  2018_P5  32632   \n",
      "49924  352940.0_5203970.0   8.920003  352940.0  5203970.0  2020_P5  32632   \n",
      "\n",
      "       harvest_year  \n",
      "23511          2018  \n",
      "49924          2020  \n",
      "coord_id: 352940.0_5203970.0\n"
     ]
    }
   ],
   "source": [
    "cid = d_cov.coord_id.to_frame().sample(ignore_index=True).coord_id[0]\n",
    "temp = pixel(cid, d_cov, d_met, d_yie)\n",
    "print(temp)"
   ]
  },
  {
   "cell_type": "code",
   "execution_count": 18,
   "metadata": {},
   "outputs": [
    {
     "name": "stdout",
     "output_type": "stream",
     "text": [
      "FID:  {'2018_P5', '2020_P5'}\n",
      "yield:                  coord_id  dry_yield   x_coord    y_coord      FID   epsg  \\\n",
      "23511  352940.0_5203970.0   8.888599  352940.0  5203970.0  2018_P5  32632   \n",
      "49924  352940.0_5203970.0   8.920003  352940.0  5203970.0  2020_P5  32632   \n",
      "\n",
      "       harvest_year  \n",
      "23511          2018  \n",
      "49924          2020  \n",
      "coord_id: 352940.0_5203970.0\n"
     ]
    }
   ],
   "source": [
    "temp = pixel(cid, d_cov, d_met, d_yie)\n",
    "print(temp)\n",
    "\n"
   ]
  },
  {
   "cell_type": "markdown",
   "metadata": {},
   "source": []
  }
 ],
 "metadata": {
  "interpreter": {
   "hash": "11dba1b81252b59ab98f33e0ce45f74ec755f8a68369b3cdc9370c92c9fa8862"
  },
  "kernelspec": {
   "display_name": "Python 3.10.2 ('env': venv)",
   "language": "python",
   "name": "python3"
  },
  "language_info": {
   "codemirror_mode": {
    "name": "ipython",
    "version": 3
   },
   "file_extension": ".py",
   "mimetype": "text/x-python",
   "name": "python",
   "nbconvert_exporter": "python",
   "pygments_lexer": "ipython3",
   "version": "3.10.2"
  },
  "orig_nbformat": 4
 },
 "nbformat": 4,
 "nbformat_minor": 2
}
